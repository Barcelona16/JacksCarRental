{
 "cells": [
  {
   "cell_type": "markdown",
   "metadata": {},
   "source": [
    "## Jack's Car Rental"
   ]
  },
  {
   "cell_type": "code",
   "execution_count": 1,
   "metadata": {},
   "outputs": [],
   "source": [
    "import time\n",
    "from functools import wraps\n",
    "from itertools import product\n",
    "\n",
    "import numpy as np\n",
    "import pandas as pd\n",
    "import seaborn as sns\n",
    "import matplotlib.pyplot as plt\n",
    "from scipy.stats import poisson"
   ]
  },
  {
   "cell_type": "markdown",
   "metadata": {},
   "source": [
    "### 1. Initialization\n"
   ]
  },
  {
   "cell_type": "code",
   "execution_count": 2,
   "metadata": {},
   "outputs": [],
   "source": [
    "\"\"\"\n",
    "We can divide the whole process into three stages. Suppose we have s=[s1, s2]\n",
    "cars at the begining.\n",
    "\n",
    "In the first stage, we move the car from one location to another at night.\n",
    "Then we have ss=[ss1, ss2]=[s1+pi(s), s2-pi(s)] cars.\n",
    "\n",
    "In the second stage, we rent out the car. Record the number of guests as a=[a1, a2] \n",
    "and we finally have ss-a=[ss1-a1, ss2-a2] cars.\n",
    "\n",
    "In the final stage, we count the returned cars b=[b1, b2] into the total number of \n",
    "cars and we have s_=[s1_, s2_]=[ss1-a1+b1, ss2-a2+b2] cars.\n",
    "\n",
    "Notation:\n",
    "    s: number of cars in the beginning; \n",
    "    pi: policy;\n",
    "    ss: number of cars after the first stage;\n",
    "    s_: number of cars at the end;\n",
    "    a: number of cars rented out;\n",
    "    b: number of cars returned;\n",
    "\"\"\"\n",
    "\n",
    "# parameters\n",
    "EvalEps = 1e-4  # threshold that determines whether the policy evaluation should terminate\n",
    "Gamma = 0.9  # discount factor\n",
    "Mu = [2, 3, 4]  # lambda of poisson distribution\n",
    "NumberStates = 21  # number of statuses of one location\n",
    "MaxMoving = 5  # maximum number of cars can be moved from one location to the other in one night\n",
    "\n",
    "\n",
    "class Timer():\n",
    "    def __init__(self) -> None:\n",
    "        self.time = 0\n",
    "\n",
    "    def timing(self, func):\n",
    "        \"\"\"\n",
    "        Calculate the running time of the function.\n",
    "        \"\"\"\n",
    "        @wraps(func)\n",
    "        def wrapTheFunction(*args, **kwargs):\n",
    "            start = time.time()\n",
    "\n",
    "            func(*args, **kwargs)\n",
    "\n",
    "            end = time.time()\n",
    "\n",
    "            self.time += end - start\n",
    "            print(\"Running Time of Function `{}`: {:.2f}s.\".format(func.__name__, end - start))\n",
    "\n",
    "        return wrapTheFunction\n",
    "\n",
    "timer = Timer()"
   ]
  },
  {
   "cell_type": "markdown",
   "metadata": {},
   "source": [
    "### 2. Poisson distribution"
   ]
  },
  {
   "cell_type": "code",
   "execution_count": 3,
   "metadata": {},
   "outputs": [
    {
     "name": "stdout",
     "output_type": "stream",
     "text": [
      "Running Time of Function `init_poisson_prob`: 0.02s.\n"
     ]
    }
   ],
   "source": [
    "@timer.timing\n",
    "def init_poisson_prob(poisson_prob):\n",
    "    \"\"\"\n",
    "    Calculate the poisson probability in advance to prevent \n",
    "    double counting and save time.\n",
    "    \"\"\"\n",
    "    for i, m in enumerate(Mu):\n",
    "        for n in range(NumberStates):\n",
    "            # We need two probabilities, one is Probability Mass Function\n",
    "            # and the other is Survival Function.\n",
    "            poisson_prob[i, n, 0] = poisson.pmf(n, m)\n",
    "            poisson_prob[i, n, 1] = poisson.sf(n - 1, m)\n",
    "    return\n",
    "\n",
    "\n",
    "PoissonProb = np.zeros([len(Mu), NumberStates, 2])\n",
    "init_poisson_prob(PoissonProb)"
   ]
  },
  {
   "cell_type": "markdown",
   "metadata": {},
   "source": [
    "### 3. Rental Reward and Probability Distributions"
   ]
  },
  {
   "cell_type": "code",
   "execution_count": 4,
   "metadata": {},
   "outputs": [
    {
     "name": "stdout",
     "output_type": "stream",
     "text": [
      "Running Time of Function `calc_reward_and_prob`: 11.22s.\n"
     ]
    }
   ],
   "source": [
    "def _calc_reward_and_prob(ss1, ss2):\n",
    "    \"\"\"\n",
    "    Traverse all possible values of the number of rental cars and the number of \n",
    "    returned cars to get the corresponding probability and reward. Then we sum\n",
    "    them up to get the expected value of rental reward and probability \n",
    "    distributions of s_.\n",
    "    \"\"\"\n",
    "\n",
    "    # The number of rental cars is limited by the number of cars in each location\n",
    "    for a1, a2 in product(list(range(ss1+1)), list(range(ss2+1))):\n",
    "        r = 10 * (a1 + a2)\n",
    "        prob_a1 = PoissonProb[1, a1, int(a1 == ss1)]\n",
    "        prob_a2 = PoissonProb[2, a2, int(a2 == ss2)]\n",
    "        prob_a = prob_a1 * prob_a2\n",
    "\n",
    "        # Caculate the expected value of rental reward\n",
    "        RewardRent[ss1, ss2] += r * prob_a\n",
    "\n",
    "        # The number of returned cars is limited by the maximum number of cars \n",
    "        # in each location\n",
    "        b1_bound, b2_bound = NumberStates + a1 - ss1, NumberStates + a2 - ss2\n",
    "        for b1, b2 in product(list(range(b1_bound)), list(range(b2_bound))):\n",
    "            prob_b1 = PoissonProb[1, b1, int(b1 == b1_bound-1)]\n",
    "            prob_b2 = PoissonProb[0, b2, int(b2 == b2_bound-1)]\n",
    "\n",
    "            # Caculate probability distributions of s_\n",
    "            s1_ = ss1 - a1 + b1\n",
    "            s2_ = ss2 - a2 + b2\n",
    "            Prob[s1_, s2_, ss1, ss2] += prob_a * prob_b1 * prob_b2\n",
    "    return\n",
    "        \n",
    "\n",
    "@timer.timing\n",
    "def calc_reward_and_prob():\n",
    "    \"\"\"\n",
    "    Since the rental reward and distributions of s_ are independent of the initial state s\n",
    "    when giving the number of cars after the first stage ss, we just need to calculate \n",
    "    rental reward and distributions of s_ for each state ss.\n",
    "    For each state, we calculate them in advance to prevent double counting and save time.\n",
    "    \"\"\"\n",
    "    for ss1, ss2 in product(list(range(NumberStates)), list(range(NumberStates))):\n",
    "        _calc_reward_and_prob(ss1, ss2)\n",
    "    return\n",
    "\n",
    "\n",
    "# Both of reward_rent and prob are conditioned on the number of cars at the \n",
    "# beginning of the second stage, that is, ss.\n",
    "# [ss_1, ss_2]\n",
    "RewardRent = np.zeros([NumberStates, NumberStates])\n",
    "# [s'_1, s'_2, ss_1, ss_2]\n",
    "Prob = np.zeros([NumberStates, NumberStates, NumberStates, NumberStates])\n",
    "\n",
    "# Calculate the expected value of rental reward and probability distributions of s_.\n",
    "calc_reward_and_prob()"
   ]
  },
  {
   "cell_type": "markdown",
   "metadata": {},
   "source": [
    "### 4. Policy Iteration"
   ]
  },
  {
   "cell_type": "code",
   "execution_count": 5,
   "metadata": {},
   "outputs": [],
   "source": [
    "def get_value(s1, s2, a):\n",
    "    \"\"\"\n",
    "    In a given state and action, calculate Value.\n",
    "    \"\"\"\n",
    "    ss1, ss2 = min(NumberStates-1, int(s1 + a)), min(NumberStates-1, int(s2 - a))\n",
    "    v = RewardRent[ss1, ss2] + Gamma * (value * Prob[:, :, ss1, ss2]).sum() - 2 * abs(a)\n",
    "    return v\n",
    "\n",
    "\n",
    "def policy_eval():\n",
    "    delta = float('inf')\n",
    "    while delta > EvalEps:\n",
    "        delta = 0\n",
    "        for s1, s2 in product(list(range(NumberStates)), list(range(NumberStates))):\n",
    "            v = value[s1, s2]\n",
    "            \n",
    "            # Update value\n",
    "            a = policy[s1, s2]\n",
    "            v_ = get_value(s1, s2, a)\n",
    "            value[s1, s2] = v_\n",
    "\n",
    "            delta = max(delta, abs(v - v_))\n",
    "    return\n",
    "\n",
    "\n",
    "def policy_improve():\n",
    "    policy_stable = True\n",
    "    for s1, s2 in product(list(range(NumberStates)), list(range(NumberStates))):\n",
    "        a = policy[s1, s2]\n",
    "\n",
    "        # Update policy\n",
    "        # Action is limited by the number of cars available.\n",
    "        actions_valid = [a for a in range(max(-s1, -MaxMoving), min(s2, MaxMoving) + 1)]\n",
    "        values_valid = [get_value(s1, s2, a) for a in actions_valid]\n",
    "        a_ = actions_valid[np.argmax(values_valid)]\n",
    "        policy[s1, s2] = a_\n",
    "\n",
    "        if a != a_:\n",
    "            policy_stable = False\n",
    "    return policy_stable\n",
    "\n",
    "\n",
    "@timer.timing\n",
    "def policy_iter():\n",
    "    \"\"\"\n",
    "    Policy iteration algorithm.\n",
    "    \"\"\"\n",
    "    policy_stable = False\n",
    "    while not policy_stable:\n",
    "        policy_eval()\n",
    "        policy_stable = policy_improve()\n",
    "    return"
   ]
  },
  {
   "cell_type": "code",
   "execution_count": 6,
   "metadata": {},
   "outputs": [
    {
     "name": "stdout",
     "output_type": "stream",
     "text": [
      "Running Time of Function `policy_iter`: 1.02s.\n"
     ]
    }
   ],
   "source": [
    "# Initialization\n",
    "value = np.zeros([NumberStates, NumberStates])\n",
    "# Number of cars moved from location2 to location1\n",
    "policy = np.zeros([NumberStates, NumberStates])\n",
    "\n",
    "# run\n",
    "policy_iter()"
   ]
  },
  {
   "cell_type": "code",
   "execution_count": 7,
   "metadata": {},
   "outputs": [
    {
     "name": "stdout",
     "output_type": "stream",
     "text": [
      "Total Running Time: 12.25s.\n"
     ]
    }
   ],
   "source": [
    "print(\"Total Running Time: {:.2f}s.\".format(timer.time))"
   ]
  },
  {
   "cell_type": "markdown",
   "metadata": {},
   "source": [
    "### 5. Draw Results"
   ]
  },
  {
   "cell_type": "code",
   "execution_count": 8,
   "metadata": {},
   "outputs": [
    {
     "data": {
      "image/png": "[encoded data removed]",
      "text/plain": [
       "<Figure size 720x648 with 2 Axes>"
      ]
     },
     "metadata": {
      "needs_background": "light"
     },
     "output_type": "display_data"
    }
   ],
   "source": [
    "# Policy\n",
    "df_policy = pd.DataFrame(\n",
    "    policy[::-1],\n",
    "    index=list(range(NumberStates-1, -1, -1)),\n",
    "    columns=list(range(NumberStates)),\n",
    ")\n",
    "\n",
    "plt.figure(figsize=(10, 9))\n",
    "sns.heatmap(data=df_policy, vmin=-5, vmax=5, square=True, cmap=\"Blues_r\")\n",
    "plt.title('Policy (Jack\\'s Car Rental)')\n",
    "plt.xlabel('Cars (Location B)')\n",
    "plt.ylabel('Cars (Location A)')\n",
    "plt.savefig(\"./fig/policy.png\")"
   ]
  },
  {
   "cell_type": "code",
   "execution_count": 9,
   "metadata": {},
   "outputs": [
    {
     "data": {
      "image/png": "[encoded data removed]",
      "text/plain": [
       "<Figure size 720x648 with 2 Axes>"
      ]
     },
     "metadata": {
      "needs_background": "light"
     },
     "output_type": "display_data"
    }
   ],
   "source": [
    "# Values\n",
    "df_value = pd.DataFrame(\n",
    "    value[::-1],\n",
    "    index=list(range(NumberStates-1, -1, -1)),\n",
    "    columns=list(range(NumberStates)),\n",
    ")\n",
    "\n",
    "plt.figure(figsize=(10, 9))\n",
    "sns.heatmap(data=df_value, square=True, cmap=\"Blues_r\", linewidths=0.1)\n",
    "plt.title('Values (Jack\\'s Car Rental)')\n",
    "plt.xlabel('Cars (Location A)')\n",
    "plt.ylabel('Cars (Location B)')\n",
    "plt.savefig(\"./fig/value.png\")"
   ]
  }
 ],
 "metadata": {
  "interpreter": {
   "hash": "dd1ef1f6b8d330672ac5cbb3e87441b91b1f81b28cc2b95a0ac6106f425c5296"
  },
  "kernelspec": {
   "display_name": "Python 3.8.8 64-bit ('sunday': conda)",
   "name": "python3"
  },
  "language_info": {
   "codemirror_mode": {
    "name": "ipython",
    "version": 3
   },
   "file_extension": ".py",
   "mimetype": "text/x-python",
   "name": "python",
   "nbconvert_exporter": "python",
   "pygments_lexer": "ipython3",
   "version": "3.8.8"
  },
  "orig_nbformat": 4
 },
 "nbformat": 4,
 "nbformat_minor": 2
}
